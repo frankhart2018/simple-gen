{
 "cells": [
  {
   "cell_type": "code",
   "execution_count": 1,
   "metadata": {},
   "outputs": [],
   "source": [
    "import matplotlib.pyplot as plt\n",
    "import time\n",
    "from IPython.display import clear_output\n",
    "import random\n",
    "\n",
    "from environment import Environment\n",
    "from reinforce.model import ReinforceModel"
   ]
  },
  {
   "cell_type": "code",
   "execution_count": 2,
   "metadata": {},
   "outputs": [],
   "source": [
    "model = ReinforceModel(initial_population=1, state_size=4, action_size=4)"
   ]
  },
  {
   "cell_type": "code",
   "execution_count": 3,
   "metadata": {},
   "outputs": [],
   "source": [
    "def train(num_episodes, max_steps):\n",
    "    \n",
    "    rewards = []\n",
    "    success_count = 0\n",
    "    \n",
    "    for idx in range(num_episodes):\n",
    "        env = Environment(rows=16, cols=16)\n",
    "\n",
    "        i = 0\n",
    "        lifetime_reward = 0\n",
    "\n",
    "        couldnt_solve = False\n",
    "        while (not env.is_done()):\n",
    "            if i == max_steps:\n",
    "                couldnt_solve = True\n",
    "                break\n",
    "\n",
    "            state = env.get_state()\n",
    "            action, _ = model.predict_action(0, state)\n",
    "\n",
    "            reward = 0\n",
    "            if action == 0:\n",
    "                reward = env.move_up()\n",
    "            elif action == 1:\n",
    "                reward = env.move_down()\n",
    "            elif action == 2:\n",
    "                reward = env.move_left()\n",
    "            elif action == 3:\n",
    "                reward = env.move_right()\n",
    "        \n",
    "            lifetime_reward += reward\n",
    "            \n",
    "            model.update_reward(0, reward)\n",
    "\n",
    "            i += 1\n",
    "        \n",
    "        clear_output(wait=True)\n",
    "        if couldnt_solve:\n",
    "            model.update_reward(0, -1)\n",
    "            print(\"\\033[91mFailure\\033[m\")\n",
    "        else:\n",
    "            print(\"\\033[92mSuccess\\033[m\")\n",
    "            success_count += 1\n",
    "            \n",
    "        print(f\"Success: [{success_count}/{idx+1}]\")\n",
    "\n",
    "        model.update_all_agents(0)\n",
    "        \n",
    "        rewards.append(lifetime_reward)\n",
    "        \n",
    "    return rewards, success_count / num_episodes"
   ]
  },
  {
   "cell_type": "code",
   "execution_count": 4,
   "metadata": {
    "scrolled": true
   },
   "outputs": [
    {
     "name": "stdout",
     "output_type": "stream",
     "text": [
      "\u001b[92mSuccess\u001b[m\n",
      "Success: [4168/5000]\n",
      "Final success ratio: 0.8336\n"
     ]
    }
   ],
   "source": [
    "num_episodes=5000\n",
    "max_steps = 100\n",
    "\n",
    "rewards, success_ratio = train(num_episodes=num_episodes, max_steps=max_steps)\n",
    "print(f\"Final success ratio: {success_ratio}\")"
   ]
  },
  {
   "cell_type": "code",
   "execution_count": 5,
   "metadata": {},
   "outputs": [],
   "source": [
    "def test():\n",
    "    env = Environment(rows=16, cols=16)\n",
    "    \n",
    "    i = 0\n",
    "    success = True\n",
    "    while (not env.is_done()):\n",
    "        if i == max_steps:\n",
    "            success = False\n",
    "            break\n",
    "\n",
    "        state = env.get_state()\n",
    "        action, _ = model.predict_action(0, state)\n",
    "\n",
    "        reward = 0\n",
    "        if action == 0:\n",
    "            reward = env.move_up()\n",
    "        elif action == 1:\n",
    "            reward = env.move_down()\n",
    "        elif action == 2:\n",
    "            reward = env.move_left()\n",
    "        elif action == 3:\n",
    "            reward = env.move_right()  \n",
    "\n",
    "        i += 1\n",
    "    \n",
    "    return success"
   ]
  },
  {
   "cell_type": "code",
   "execution_count": 7,
   "metadata": {},
   "outputs": [
    {
     "name": "stdout",
     "output_type": "stream",
     "text": [
      "\u001b[92mSuccess\u001b[m\n",
      "Success: [4756 / 5000]\n",
      "0.9512\n"
     ]
    }
   ],
   "source": [
    "success_count = 0\n",
    "total_runs = 5000\n",
    "\n",
    "for i in range(total_runs):\n",
    "    success = test()\n",
    "    \n",
    "    clear_output(wait=True)\n",
    "    if success:\n",
    "        print(\"\\033[92mSuccess\\033[m\")\n",
    "        success_count += 1\n",
    "    else:\n",
    "        print(\"\\033[91mFailure\\033[m\")\n",
    "        \n",
    "    print(f\"Success: [{success_count} / {(i+1)}]\")\n",
    "    \n",
    "print(success_count / total_runs)"
   ]
  },
  {
   "cell_type": "code",
   "execution_count": 8,
   "metadata": {},
   "outputs": [],
   "source": [
    "import torch\n",
    "\n",
    "torch.save(model.agents[0].state_dict(), 'experiment-5-5k.pth')"
   ]
  }
 ],
 "metadata": {
  "kernelspec": {
   "display_name": "Python 3",
   "language": "python",
   "name": "python3"
  },
  "language_info": {
   "codemirror_mode": {
    "name": "ipython",
    "version": 3
   },
   "file_extension": ".py",
   "mimetype": "text/x-python",
   "name": "python",
   "nbconvert_exporter": "python",
   "pygments_lexer": "ipython3",
   "version": "3.7.4"
  }
 },
 "nbformat": 4,
 "nbformat_minor": 2
}
