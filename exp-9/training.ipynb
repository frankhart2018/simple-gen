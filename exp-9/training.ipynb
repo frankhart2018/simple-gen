{
 "cells": [
  {
   "cell_type": "code",
   "execution_count": 1,
   "metadata": {},
   "outputs": [],
   "source": [
    "import matplotlib.pyplot as plt\n",
    "import time\n",
    "from IPython.display import clear_output\n",
    "import random\n",
    "\n",
    "from environment import Environment\n",
    "from reinforce.model import ReinforceModel"
   ]
  },
  {
   "cell_type": "code",
   "execution_count": 2,
   "metadata": {},
   "outputs": [],
   "source": [
    "model = ReinforceModel(initial_population=1, state_size=20, action_size=5)"
   ]
  },
  {
   "cell_type": "code",
   "execution_count": 3,
   "metadata": {},
   "outputs": [],
   "source": [
    "def train(num_episodes, max_steps):\n",
    "    \n",
    "    rewards = []\n",
    "    success_count = 0\n",
    "    \n",
    "    max_food_collected = 0\n",
    "    \n",
    "    for idx in range(num_episodes):\n",
    "        env = Environment(rows=16, cols=16)\n",
    "\n",
    "        i = 0\n",
    "        lifetime_reward = 0\n",
    "\n",
    "        couldnt_solve = False\n",
    "        while (not env.is_done()):\n",
    "            if i == max_steps:\n",
    "                couldnt_solve = True\n",
    "                break\n",
    "\n",
    "            state = env.get_state()\n",
    "            action, _ = model.predict_action(0, state)\n",
    "\n",
    "            reward = 0\n",
    "            if action == 0:\n",
    "                reward = env.move_up()\n",
    "            elif action == 1:\n",
    "                reward = env.move_down()\n",
    "            elif action == 2:\n",
    "                reward = env.move_left()\n",
    "            elif action == 3:\n",
    "                reward = env.move_right()\n",
    "            elif action == 4:\n",
    "                reward = env.ingest()\n",
    "        \n",
    "            lifetime_reward += reward\n",
    "            \n",
    "            \n",
    "            model.update_reward(0, reward)\n",
    "            \n",
    "            i += 1\n",
    "            \n",
    "        clear_output(wait=True)\n",
    "        print(f\"Episode: [{idx+1}/{num_episodes}]\")\n",
    "        print(f\"Food collected: {env.consumed_count}\")\n",
    "        \n",
    "        if env.consumed_count > max_food_collected:\n",
    "            max_food_collected = env.consumed_count\n",
    "            \n",
    "        print(f\"Max food collected: {max_food_collected}\")\n",
    "\n",
    "        model.update_all_agents(0)\n",
    "        \n",
    "        rewards.append(lifetime_reward)\n",
    "        \n",
    "    return rewards"
   ]
  },
  {
   "cell_type": "code",
   "execution_count": 4,
   "metadata": {
    "scrolled": true
   },
   "outputs": [
    {
     "name": "stdout",
     "output_type": "stream",
     "text": [
      "Episode: [10000/10000]\n",
      "Food collected: 4\n",
      "Max food collected: 22\n"
     ]
    }
   ],
   "source": [
    "num_episodes=10000\n",
    "max_steps = 250\n",
    "\n",
    "rewards = train(num_episodes=num_episodes, max_steps=max_steps)"
   ]
  },
  {
   "cell_type": "code",
   "execution_count": 5,
   "metadata": {},
   "outputs": [],
   "source": [
    "import torch\n",
    "\n",
    "torch.save(model.agents[0].state_dict(), f'experiment-9-{num_episodes//1000}k.pth')"
   ]
  }
 ],
 "metadata": {
  "kernelspec": {
   "display_name": "Python 3",
   "language": "python",
   "name": "python3"
  },
  "language_info": {
   "codemirror_mode": {
    "name": "ipython",
    "version": 3
   },
   "file_extension": ".py",
   "mimetype": "text/x-python",
   "name": "python",
   "nbconvert_exporter": "python",
   "pygments_lexer": "ipython3",
   "version": "3.7.4"
  }
 },
 "nbformat": 4,
 "nbformat_minor": 2
}
