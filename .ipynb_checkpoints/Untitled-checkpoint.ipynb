{
 "cells": [
  {
   "cell_type": "code",
   "execution_count": 3,
   "metadata": {},
   "outputs": [],
   "source": [
    "import matplotlib.pyplot as plt\n",
    "import time\n",
    "from IPython.display import clear_output\n",
    "import random\n",
    "import torch\n",
    "\n",
    "from environment import Environment\n",
    "from reinforce.model import ReinforceModel"
   ]
  },
  {
   "cell_type": "code",
   "execution_count": 4,
   "metadata": {},
   "outputs": [
    {
     "data": {
      "text/plain": [
       "<All keys matched successfully>"
      ]
     },
     "execution_count": 4,
     "metadata": {},
     "output_type": "execute_result"
    }
   ],
   "source": [
    "model = ReinforceModel(initial_population=1, state_size=8, action_size=4)\n",
    "model.agents[0].load_state_dict(torch.load('reinforce-model.pth'))"
   ]
  },
  {
   "cell_type": "code",
   "execution_count": 8,
   "metadata": {},
   "outputs": [],
   "source": [
    "def test(max_steps):\n",
    "    env = Environment(rows=16, cols=16)\n",
    "    \n",
    "    i = 0\n",
    "    while (not env.is_done()):\n",
    "        if i == max_steps:\n",
    "            couldnt_solve = True\n",
    "            break\n",
    "\n",
    "        state = env.get_state()\n",
    "        action, _ = model.predict_action(0, state)\n",
    "\n",
    "        reward = 0\n",
    "        if action == 0:\n",
    "            reward = env.move_up()\n",
    "        elif action == 1:\n",
    "            reward = env.move_down()\n",
    "        elif action == 2:\n",
    "            reward = env.move_left()\n",
    "        elif action == 3:\n",
    "            reward = env.move_right()\n",
    "\n",
    "        clear_output(wait=True)\n",
    "        print(f\"Distance: {-env.compute_abs_xy_distance()}\")\n",
    "        env.render()    \n",
    "\n",
    "        i += 1\n",
    "        \n",
    "        time.sleep(0.1)"
   ]
  },
  {
   "cell_type": "code",
   "execution_count": 11,
   "metadata": {},
   "outputs": [
    {
     "name": "stdout",
     "output_type": "stream",
     "text": [
      "Distance: 0\n",
      "O O O O O O O O O O O O O O O O \n",
      "O O O O O O O O O O O O O O O O \n",
      "O O O O O O O O O O O O O O O O \n",
      "O O O O O O O O \u001b[94mX\u001b[m O O O O O O O \n",
      "O O O O O O O O O O O O O O O O \n",
      "O O O O O O O O O O O O O O O O \n",
      "O O O O O O O O O O O O O O O O \n",
      "O O O O O O O O O O O O O O O O \n",
      "O O O O O O O O O O O O O O O O \n",
      "O O O O O O O O O O O O O O O O \n",
      "O O O O O O O O O O O O O O O O \n",
      "O O O O O O O O O O O O O O O O \n",
      "O O O O O O O O O O O O O O O O \n",
      "O O O O O O O O O O O O O O O O \n",
      "O O O O O O O O O O O O O O O O \n",
      "O O O O O O O O O O O O O O O O \n",
      "\n"
     ]
    }
   ],
   "source": [
    "test(max_steps=100)"
   ]
  }
 ],
 "metadata": {
  "kernelspec": {
   "display_name": "Python 3",
   "language": "python",
   "name": "python3"
  },
  "language_info": {
   "codemirror_mode": {
    "name": "ipython",
    "version": 3
   },
   "file_extension": ".py",
   "mimetype": "text/x-python",
   "name": "python",
   "nbconvert_exporter": "python",
   "pygments_lexer": "ipython3",
   "version": "3.8.3"
  }
 },
 "nbformat": 4,
 "nbformat_minor": 4
}
