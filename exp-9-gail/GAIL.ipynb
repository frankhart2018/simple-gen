{
 "cells": [
  {
   "cell_type": "code",
   "execution_count": 1,
   "metadata": {},
   "outputs": [],
   "source": [
    "import numpy as np\n",
    "from IPython.display import clear_output\n",
    "import glob\n",
    "import os\n",
    "\n",
    "import torch\n",
    "import torch.nn as nn\n",
    "import torch.nn.functional as F\n",
    "import torch.optim as optim\n",
    "from torch.utils.data import Dataset, DataLoader\n",
    "\n",
    "from gail.model import GAIL"
   ]
  },
  {
   "cell_type": "code",
   "execution_count": 2,
   "metadata": {},
   "outputs": [],
   "source": [
    "ENVIRONMENT_SIZE = 16\n",
    "BATCH_SIZE = 32"
   ]
  },
  {
   "cell_type": "code",
   "execution_count": 3,
   "metadata": {},
   "outputs": [],
   "source": [
    "class BCDataset(Dataset):\n",
    "    \n",
    "    def __init__(self, npy_dir):\n",
    "        files = glob.glob(os.path.join(npy_dir, \"*.npy\"))\n",
    "        self.trajectories = []\n",
    "        \n",
    "        for file in files:\n",
    "            self.trajectories.append(np.load(file, allow_pickle=True))\n",
    "        \n",
    "        self.trajectories = np.vstack(self.trajectories)\n",
    "        \n",
    "    def __len__(self):\n",
    "        return len(self.trajectories)\n",
    "    \n",
    "    def __getitem__(self, idx):\n",
    "        state, action = self.trajectories[idx]\n",
    "        \n",
    "        return np.array(state, dtype=np.float32), action"
   ]
  },
  {
   "cell_type": "code",
   "execution_count": 4,
   "metadata": {},
   "outputs": [],
   "source": [
    "training_dataset = BCDataset(\"expert-dir\")"
   ]
  },
  {
   "cell_type": "code",
   "execution_count": 5,
   "metadata": {},
   "outputs": [
    {
     "data": {
      "text/plain": [
       "5500"
      ]
     },
     "execution_count": 5,
     "metadata": {},
     "output_type": "execute_result"
    }
   ],
   "source": [
    "len(training_dataset)"
   ]
  },
  {
   "cell_type": "code",
   "execution_count": 6,
   "metadata": {},
   "outputs": [],
   "source": [
    "from collections import Counter, OrderedDict\n",
    "\n",
    "def get_training_distribution(dataset):\n",
    "    actions = Counter([dataset[i][1] for i in range(len(dataset))])\n",
    "    actions = {action:1/count for action, count in actions.items()}\n",
    "    actions = OrderedDict(sorted(actions.items()))\n",
    "    return torch.tensor(list(actions.values()))"
   ]
  },
  {
   "cell_type": "code",
   "execution_count": 7,
   "metadata": {},
   "outputs": [],
   "source": [
    "training_dataloader = DataLoader(training_dataset, batch_size=BATCH_SIZE, shuffle=True, num_workers=0)"
   ]
  },
  {
   "cell_type": "code",
   "execution_count": 8,
   "metadata": {},
   "outputs": [
    {
     "data": {
      "text/plain": [
       "172"
      ]
     },
     "execution_count": 8,
     "metadata": {},
     "output_type": "execute_result"
    }
   ],
   "source": [
    "len(training_dataloader)"
   ]
  },
  {
   "cell_type": "code",
   "execution_count": 9,
   "metadata": {},
   "outputs": [],
   "source": [
    "STATE_SIZE = 20\n",
    "ACTION_SIZE = 5\n",
    "\n",
    "model = GAIL(s_size=STATE_SIZE, a_size=ACTION_SIZE, batch_size=BATCH_SIZE)"
   ]
  },
  {
   "cell_type": "code",
   "execution_count": null,
   "metadata": {
    "scrolled": true
   },
   "outputs": [
    {
     "name": "stderr",
     "output_type": "stream",
     "text": [
      "Loss 0.490292131727518, Loss Actor 0.16422325480989244:  16%|█▌        | 315/2000 [02:08<14:56,  1.88it/s]  "
     ]
    }
   ],
   "source": [
    "from tqdm import tqdm, trange\n",
    "\n",
    "EPISODES = 2000\n",
    "\n",
    "episode_losses = []\n",
    "episode_losses_actor = []\n",
    "\n",
    "t = trange(EPISODES, desc=\"Episode\")\n",
    "for current_episode_num in t:\n",
    "    current_episode_loss = 0\n",
    "    current_episode_loss_actor = 0\n",
    "    \n",
    "    for i, data in enumerate(training_dataloader):\n",
    "        states, actions = data\n",
    "        actions = actions.unsqueeze(1)\n",
    "        \n",
    "        loss, loss_actor = model.backward_pass(states, actions)\n",
    "        current_episode_loss += loss\n",
    "        current_episode_loss_actor += loss_actor\n",
    "        \n",
    "    t.set_description(f\"Loss {current_episode_loss / len(training_dataloader)}, Loss Actor {current_episode_loss_actor / len(training_dataloader)}\")\n",
    "    t.refresh()\n",
    "       \n",
    "    episode_losses.append(current_episode_loss / len(training_dataloader))\n",
    "    episode_losses_actor.append(current_episode_loss_actor / len(training_dataloader))"
   ]
  },
  {
   "cell_type": "code",
   "execution_count": null,
   "metadata": {},
   "outputs": [],
   "source": [
    "import time\n",
    "\n",
    "from environment import Environment\n",
    "\n",
    "def test(max_steps, speed=0.5, agent_pos=None, food_pos=None, render=True):\n",
    "    model.actor.eval()\n",
    "    \n",
    "    env = Environment(rows=16, cols=16, scope=10)\n",
    "\n",
    "    if agent_pos != None:\n",
    "        env.current_pos = env.pos(agent_pos[0], agent_pos[1])\n",
    "\n",
    "    if food_pos != None:\n",
    "        env.food = env.pos(food_pos[0], food_pos[1])\n",
    "\n",
    "    i = 0\n",
    "    success = True\n",
    "    while (not env.is_done()):\n",
    "        clear_output(wait=True)\n",
    "        print(f\"Step: {i+1}, Food: {env.consumed_count}\")\n",
    "        if i == max_steps or env.num_food == 0:\n",
    "            success = False\n",
    "            break\n",
    "\n",
    "        state = env.get_state()\n",
    "        state = torch.from_numpy(state).unsqueeze(0)\n",
    "        \n",
    "        with torch.no_grad():\n",
    "            action = int(model.forward_pass(state.float())[0].item())\n",
    "            print(f\"Action: {action}\")\n",
    "\n",
    "        reward = 0\n",
    "        if action == 0:\n",
    "            reward = env.move_up()\n",
    "        elif action == 1:\n",
    "            reward = env.move_left()\n",
    "        elif action == 2:\n",
    "            reward = env.move_down()\n",
    "        elif action == 3:\n",
    "            reward = env.move_right()\n",
    "        elif action == 4:\n",
    "            reward = env.ingest()\n",
    "\n",
    "        if render:\n",
    "            env.render()\n",
    "\n",
    "        i += 1\n",
    "\n",
    "        time.sleep(speed)\n",
    "\n",
    "    return success, env.consumed_count"
   ]
  },
  {
   "cell_type": "code",
   "execution_count": null,
   "metadata": {},
   "outputs": [],
   "source": [
    "# test(max_steps=50, speed=0.1, render=True)"
   ]
  },
  {
   "cell_type": "code",
   "execution_count": null,
   "metadata": {},
   "outputs": [],
   "source": [
    "# from collections import Counter\n",
    "\n",
    "# actions = []\n",
    "# action_num_to_name = {0: \"up\", 1: \"left\", 2: \"down\", 3: \"right\", 4: \"ingest\"}\n",
    "\n",
    "# for val in training_dataset:\n",
    "#     actions.append(val[1])\n",
    "    \n",
    "# action_distribution = dict(Counter(actions))\n",
    "# action_distribution = {action:1/count for action, count in action_distribution.items()}\n",
    "# print(action_distribution)"
   ]
  },
  {
   "cell_type": "code",
   "execution_count": null,
   "metadata": {},
   "outputs": [],
   "source": []
  }
 ],
 "metadata": {
  "kernelspec": {
   "display_name": "Python 3",
   "language": "python",
   "name": "python3"
  },
  "language_info": {
   "codemirror_mode": {
    "name": "ipython",
    "version": 3
   },
   "file_extension": ".py",
   "mimetype": "text/x-python",
   "name": "python",
   "nbconvert_exporter": "python",
   "pygments_lexer": "ipython3",
   "version": "3.7.4"
  }
 },
 "nbformat": 4,
 "nbformat_minor": 2
}
