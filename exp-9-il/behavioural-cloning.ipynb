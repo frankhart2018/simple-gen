{
 "cells": [
  {
   "cell_type": "code",
   "execution_count": 25,
   "metadata": {},
   "outputs": [],
   "source": [
    "import numpy as np\n",
    "from IPython.display import clear_output\n",
    "import glob\n",
    "import os\n",
    "\n",
    "import torch\n",
    "import torch.nn as nn\n",
    "import torch.nn.functional as F\n",
    "import torch.optim as optim\n",
    "from torch.utils.data import Dataset, DataLoader"
   ]
  },
  {
   "cell_type": "code",
   "execution_count": 2,
   "metadata": {},
   "outputs": [],
   "source": [
    "ENVIRONMENT_SIZE = 16"
   ]
  },
  {
   "cell_type": "code",
   "execution_count": 3,
   "metadata": {},
   "outputs": [],
   "source": [
    "class BCDataset(Dataset):\n",
    "    \n",
    "    def __init__(self, npy_dir):\n",
    "        files = glob.glob(os.path.join(npy_dir, \"*.npy\"))\n",
    "        self.trajectories = []\n",
    "        \n",
    "        for file in files:\n",
    "            self.trajectories.append(np.load(file, allow_pickle=True))\n",
    "        \n",
    "        self.trajectories = np.vstack(self.trajectories)\n",
    "        \n",
    "    def __len__(self):\n",
    "        return len(self.trajectories)\n",
    "    \n",
    "    def __getitem__(self, idx):\n",
    "        state, action = self.trajectories[idx]\n",
    "        state = [state[i] / ENVIRONMENT_SIZE if (state[i] != -1) and (i in state[0::4] or i in state[1::4]) \n",
    "                 else state[i]\n",
    "                 for i in range(len(state))]\n",
    "        return np.array(state, dtype=np.float32), action"
   ]
  },
  {
   "cell_type": "code",
   "execution_count": 4,
   "metadata": {},
   "outputs": [],
   "source": [
    "training_dataset = BCDataset(\"1609591483.npy\")"
   ]
  },
  {
   "cell_type": "code",
   "execution_count": 5,
   "metadata": {},
   "outputs": [
    {
     "data": {
      "text/plain": [
       "250"
      ]
     },
     "execution_count": 5,
     "metadata": {},
     "output_type": "execute_result"
    }
   ],
   "source": [
    "len(training_dataset)"
   ]
  },
  {
   "cell_type": "code",
   "execution_count": 6,
   "metadata": {},
   "outputs": [
    {
     "data": {
      "text/plain": [
       "(array([-1.    , -1.    , -1.    , -1.    ,  0.3125,  0.    , -1.    ,\n",
       "        -1.    ,  1.    ,  4.    ,  1.    ,  1.    , -1.    , -1.    ,\n",
       "        -1.    , -1.    ,  3.    ,  0.    , -1.    , -1.    ],\n",
       "       dtype=float32), 2)"
      ]
     },
     "execution_count": 6,
     "metadata": {},
     "output_type": "execute_result"
    }
   ],
   "source": [
    "training_dataset[0]"
   ]
  },
  {
   "cell_type": "code",
   "execution_count": 7,
   "metadata": {},
   "outputs": [
    {
     "data": {
      "text/plain": [
       "([0, 4, 8, 12, 16], [1, 5, 9, 13, 17])"
      ]
     },
     "execution_count": 7,
     "metadata": {},
     "output_type": "execute_result"
    }
   ],
   "source": [
    "x = [i for i in range(20)]\n",
    "x[0::4], x[1::4]"
   ]
  },
  {
   "cell_type": "code",
   "execution_count": 8,
   "metadata": {},
   "outputs": [],
   "source": [
    "training_dataloader = DataLoader(training_dataset, batch_size=64, shuffle=True, num_workers=0)"
   ]
  },
  {
   "cell_type": "code",
   "execution_count": 9,
   "metadata": {},
   "outputs": [
    {
     "data": {
      "text/plain": [
       "4"
      ]
     },
     "execution_count": 9,
     "metadata": {},
     "output_type": "execute_result"
    }
   ],
   "source": [
    "len(training_dataloader)"
   ]
  },
  {
   "cell_type": "code",
   "execution_count": 10,
   "metadata": {},
   "outputs": [],
   "source": [
    "class BCModel(nn.Module):\n",
    "    \n",
    "    def __init__(self, state_size, action_size, hidden_size=128):\n",
    "        super(BCModel, self).__init__()\n",
    "        \n",
    "        self.fc1 = nn.Linear(in_features=state_size, out_features=hidden_size)\n",
    "#         self.fc2 = nn.Linear(in_features=hidden_size, out_features=hidden_size)\n",
    "        self.fc3 = nn.Linear(in_features=hidden_size, out_features=action_size)\n",
    "        \n",
    "    def forward(self, x):\n",
    "        out = self.fc1(x)\n",
    "#         out = self.fc2(out)\n",
    "        out = self.fc3(out)\n",
    "        \n",
    "        return F.softmax(out, dim=1)"
   ]
  },
  {
   "cell_type": "code",
   "execution_count": 11,
   "metadata": {},
   "outputs": [],
   "source": [
    "STATE_SIZE = 20\n",
    "ACTION_SIZE = 5\n",
    "\n",
    "model = BCModel(state_size=STATE_SIZE, action_size=ACTION_SIZE)\n",
    "\n",
    "loss_fn = nn.CrossEntropyLoss()\n",
    "optimizer = optim.Adam(model.parameters(), lr=1e-3)"
   ]
  },
  {
   "cell_type": "code",
   "execution_count": 12,
   "metadata": {},
   "outputs": [
    {
     "name": "stdout",
     "output_type": "stream",
     "text": [
      "Episode: [2000/2000], Loss: 4.8261377811431885\n"
     ]
    }
   ],
   "source": [
    "EPISODES = 2000\n",
    "\n",
    "for current_episode_num in range(EPISODES):\n",
    "    current_episode_loss = 0\n",
    "    \n",
    "    for i, data in enumerate(training_dataloader):\n",
    "        states, actions = data\n",
    "        \n",
    "        optimizer.zero_grad()\n",
    "        \n",
    "        predicted_actions = model(states.float())\n",
    "        loss = loss_fn(predicted_actions, actions)\n",
    "        loss.backward()\n",
    "        optimizer.step()\n",
    "        \n",
    "        current_episode_loss += loss.item()\n",
    "       \n",
    "    clear_output(wait=True)\n",
    "    print(f\"Episode: [{current_episode_num+1}/{EPISODES}], Loss: {current_episode_loss}\")"
   ]
  },
  {
   "cell_type": "code",
   "execution_count": 13,
   "metadata": {},
   "outputs": [],
   "source": [
    "import time\n",
    "\n",
    "from environment import Environment\n",
    "\n",
    "def test(max_steps, speed=0.5, agent_pos=None, food_pos=None, render=True):\n",
    "    model.eval()\n",
    "    \n",
    "    env = Environment(rows=16, cols=16, scope=10)\n",
    "\n",
    "    if agent_pos != None:\n",
    "        env.current_pos = env.pos(agent_pos[0], agent_pos[1])\n",
    "\n",
    "    if food_pos != None:\n",
    "        env.food = env.pos(food_pos[0], food_pos[1])\n",
    "\n",
    "    i = 0\n",
    "    success = True\n",
    "    while (not env.is_done()):\n",
    "        clear_output(wait=True)\n",
    "        print(f\"Step: {i+1}, Food: {env.consumed_count}\")\n",
    "        if i == max_steps or env.num_food == 0:\n",
    "            success = False\n",
    "            break\n",
    "\n",
    "        state = env.get_state()\n",
    "        state = torch.from_numpy(state).unsqueeze(0)\n",
    "        \n",
    "        with torch.no_grad():\n",
    "            action_probs = model(state.float())\n",
    "            print(f\"Action prob: {action_probs}\")\n",
    "            _, action = torch.max(action_probs, 1)\n",
    "            action = action.item()\n",
    "            print(f\"Action: {action}\")\n",
    "\n",
    "        reward = 0\n",
    "        if action == 0:\n",
    "            reward = env.move_up()\n",
    "        elif action == 1:\n",
    "            reward = env.move_down()\n",
    "        elif action == 2:\n",
    "            reward = env.move_left()\n",
    "        elif action == 3:\n",
    "            reward = env.move_right()\n",
    "        elif action == 4:\n",
    "            reward = env.ingest()\n",
    "\n",
    "        if render:\n",
    "            env.render()\n",
    "\n",
    "        i += 1\n",
    "\n",
    "        time.sleep(speed)\n",
    "\n",
    "    return success, env.consumed_count"
   ]
  },
  {
   "cell_type": "code",
   "execution_count": 14,
   "metadata": {},
   "outputs": [
    {
     "name": "stdout",
     "output_type": "stream",
     "text": [
      "Step: 251, Food: 0\n"
     ]
    },
    {
     "data": {
      "text/plain": [
       "(False, 0)"
      ]
     },
     "execution_count": 14,
     "metadata": {},
     "output_type": "execute_result"
    }
   ],
   "source": [
    "test(max_steps=250, speed=0.1, render=True)"
   ]
  },
  {
   "cell_type": "code",
   "execution_count": null,
   "metadata": {},
   "outputs": [],
   "source": []
  }
 ],
 "metadata": {
  "kernelspec": {
   "display_name": "Python 3",
   "language": "python",
   "name": "python3"
  },
  "language_info": {
   "codemirror_mode": {
    "name": "ipython",
    "version": 3
   },
   "file_extension": ".py",
   "mimetype": "text/x-python",
   "name": "python",
   "nbconvert_exporter": "python",
   "pygments_lexer": "ipython3",
   "version": "3.7.4"
  }
 },
 "nbformat": 4,
 "nbformat_minor": 2
}
