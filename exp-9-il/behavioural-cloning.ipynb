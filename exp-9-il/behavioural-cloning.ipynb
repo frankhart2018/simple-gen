{
 "cells": [
  {
   "cell_type": "code",
   "execution_count": 1,
   "metadata": {},
   "outputs": [],
   "source": [
    "import numpy as np\n",
    "from IPython.display import clear_output\n",
    "import glob\n",
    "import os\n",
    "\n",
    "import torch\n",
    "import torch.nn as nn\n",
    "import torch.nn.functional as F\n",
    "import torch.optim as optim\n",
    "from torch.utils.data import Dataset, DataLoader"
   ]
  },
  {
   "cell_type": "code",
   "execution_count": 2,
   "metadata": {},
   "outputs": [],
   "source": [
    "ENVIRONMENT_SIZE = 16\n",
    "BATCH_SIZE = 32"
   ]
  },
  {
   "cell_type": "code",
   "execution_count": 3,
   "metadata": {},
   "outputs": [],
   "source": [
    "class BCDataset(Dataset):\n",
    "    \n",
    "    def __init__(self, npy_dir):\n",
    "        files = glob.glob(os.path.join(npy_dir, \"*.npy\"))\n",
    "        self.trajectories = []\n",
    "        \n",
    "        for file in files:\n",
    "            self.trajectories.append(np.load(file, allow_pickle=True))\n",
    "        \n",
    "        self.trajectories = np.vstack(self.trajectories)\n",
    "        \n",
    "    def __len__(self):\n",
    "        return len(self.trajectories)\n",
    "    \n",
    "    def __getitem__(self, idx):\n",
    "        state, action = self.trajectories[idx]\n",
    "#         state = [state[i] / ENVIRONMENT_SIZE if (state[i] != -1) and (i in state[0::4] or i in state[1::4]) \n",
    "#                  else state[i]\n",
    "#                  for i in range(len(state))]\n",
    "        return np.array(state, dtype=np.float32), action"
   ]
  },
  {
   "cell_type": "code",
   "execution_count": 4,
   "metadata": {},
   "outputs": [],
   "source": [
    "training_dataset = BCDataset(\"expert-dir\")"
   ]
  },
  {
   "cell_type": "code",
   "execution_count": 5,
   "metadata": {},
   "outputs": [
    {
     "data": {
      "text/plain": [
       "5500"
      ]
     },
     "execution_count": 5,
     "metadata": {},
     "output_type": "execute_result"
    }
   ],
   "source": [
    "len(training_dataset)"
   ]
  },
  {
   "cell_type": "code",
   "execution_count": 12,
   "metadata": {},
   "outputs": [],
   "source": [
    "from collections import Counter, OrderedDict\n",
    "\n",
    "def get_training_distribution(dataset):\n",
    "    actions = Counter([dataset[i][1] for i in range(len(dataset))])\n",
    "    actions = {action:1/count for action, count in actions.items()}\n",
    "    actions = OrderedDict(sorted(actions.items()))\n",
    "    return torch.tensor(list(actions.values()))"
   ]
  },
  {
   "cell_type": "code",
   "execution_count": 13,
   "metadata": {},
   "outputs": [
    {
     "data": {
      "text/plain": [
       "(array([-1., -1., -1., -1., -1., -1., -1., -1., -1., -1., -1., -1.,  8.,\n",
       "         1.,  1.,  1.,  6.,  0.,  1., -1.], dtype=float32), 0)"
      ]
     },
     "execution_count": 13,
     "metadata": {},
     "output_type": "execute_result"
    }
   ],
   "source": [
    "training_dataset[0]"
   ]
  },
  {
   "cell_type": "code",
   "execution_count": 22,
   "metadata": {},
   "outputs": [],
   "source": [
    "arr = [-1., -1., -1., -1., -1., -1., -1., -1., -1., -1., -1., -1.,  8.,\n",
    "         1.,  1.,  1.,  6.,  0.,  1., -1.]"
   ]
  },
  {
   "cell_type": "code",
   "execution_count": 31,
   "metadata": {},
   "outputs": [
    {
     "data": {
      "text/plain": [
       "True"
      ]
     },
     "execution_count": 31,
     "metadata": {},
     "output_type": "execute_result"
    }
   ],
   "source": [
    "list(set([arr[i:i + 4] for i in range(0, len(arr), 4)][0])) == [-1.0]"
   ]
  },
  {
   "cell_type": "code",
   "execution_count": 14,
   "metadata": {},
   "outputs": [],
   "source": [
    "training_dataloader = DataLoader(training_dataset, batch_size=BATCH_SIZE, shuffle=True, num_workers=0)"
   ]
  },
  {
   "cell_type": "code",
   "execution_count": 15,
   "metadata": {},
   "outputs": [
    {
     "data": {
      "text/plain": [
       "172"
      ]
     },
     "execution_count": 15,
     "metadata": {},
     "output_type": "execute_result"
    }
   ],
   "source": [
    "len(training_dataloader)"
   ]
  },
  {
   "cell_type": "code",
   "execution_count": 19,
   "metadata": {},
   "outputs": [],
   "source": [
    "class BCModel(nn.Module):\n",
    "    \n",
    "    def __init__(self, state_size, action_size, hidden_size=256):\n",
    "        super(BCModel, self).__init__()\n",
    "        \n",
    "        self.fc1 = nn.Linear(in_features=state_size, out_features=hidden_size)\n",
    "        self.leaky_relu_1 = nn.LeakyReLU()\n",
    "        self.fc2 = nn.Linear(in_features=hidden_size, out_features=hidden_size//2)\n",
    "        self.leaky_relu_2 = nn.LeakyReLU()\n",
    "        self.fc3 = nn.Linear(in_features=hidden_size//2, out_features=action_size)\n",
    "        \n",
    "    def forward(self, x):\n",
    "        out = self.leaky_relu_1(self.fc1(x))\n",
    "        out = self.fc2(out)\n",
    "        out = self.fc3(out)\n",
    "        \n",
    "        return F.softmax(out, dim=1)"
   ]
  },
  {
   "cell_type": "code",
   "execution_count": 20,
   "metadata": {},
   "outputs": [],
   "source": [
    "STATE_SIZE = 20\n",
    "ACTION_SIZE = 5\n",
    "\n",
    "model = BCModel(state_size=STATE_SIZE, action_size=ACTION_SIZE)\n",
    "\n",
    "loss_fn = nn.CrossEntropyLoss(weight=get_training_distribution(training_dataset))\n",
    "optimizer = optim.Adam(model.parameters(), lr=1e-3)"
   ]
  },
  {
   "cell_type": "code",
   "execution_count": 21,
   "metadata": {
    "scrolled": true
   },
   "outputs": [
    {
     "name": "stderr",
     "output_type": "stream",
     "text": [
      "Loss 1.091066651566084:  15%|█▌        | 306/2000 [02:30<13:55,  2.03it/s] \n"
     ]
    },
    {
     "ename": "KeyboardInterrupt",
     "evalue": "",
     "output_type": "error",
     "traceback": [
      "\u001b[0;31m---------------------------------------------------------------------------\u001b[0m",
      "\u001b[0;31mKeyboardInterrupt\u001b[0m                         Traceback (most recent call last)",
      "\u001b[0;32m<ipython-input-21-c1c3d5e1fe52>\u001b[0m in \u001b[0;36m<module>\u001b[0;34m\u001b[0m\n\u001b[1;32m     15\u001b[0m         \u001b[0mpredicted_actions\u001b[0m \u001b[0;34m=\u001b[0m \u001b[0mmodel\u001b[0m\u001b[0;34m(\u001b[0m\u001b[0mstates\u001b[0m\u001b[0;34m.\u001b[0m\u001b[0mfloat\u001b[0m\u001b[0;34m(\u001b[0m\u001b[0;34m)\u001b[0m\u001b[0;34m)\u001b[0m\u001b[0;34m\u001b[0m\u001b[0;34m\u001b[0m\u001b[0m\n\u001b[1;32m     16\u001b[0m         \u001b[0mloss\u001b[0m \u001b[0;34m=\u001b[0m \u001b[0mloss_fn\u001b[0m\u001b[0;34m(\u001b[0m\u001b[0mpredicted_actions\u001b[0m\u001b[0;34m,\u001b[0m \u001b[0mactions\u001b[0m\u001b[0;34m)\u001b[0m\u001b[0;34m\u001b[0m\u001b[0;34m\u001b[0m\u001b[0m\n\u001b[0;32m---> 17\u001b[0;31m         \u001b[0mloss\u001b[0m\u001b[0;34m.\u001b[0m\u001b[0mbackward\u001b[0m\u001b[0;34m(\u001b[0m\u001b[0;34m)\u001b[0m\u001b[0;34m\u001b[0m\u001b[0;34m\u001b[0m\u001b[0m\n\u001b[0m\u001b[1;32m     18\u001b[0m         \u001b[0moptimizer\u001b[0m\u001b[0;34m.\u001b[0m\u001b[0mstep\u001b[0m\u001b[0;34m(\u001b[0m\u001b[0;34m)\u001b[0m\u001b[0;34m\u001b[0m\u001b[0;34m\u001b[0m\u001b[0m\n\u001b[1;32m     19\u001b[0m \u001b[0;34m\u001b[0m\u001b[0m\n",
      "\u001b[0;32m~/anaconda3/lib/python3.7/site-packages/torch/tensor.py\u001b[0m in \u001b[0;36mbackward\u001b[0;34m(self, gradient, retain_graph, create_graph)\u001b[0m\n\u001b[1;32m    193\u001b[0m                 \u001b[0mproducts\u001b[0m\u001b[0;34m.\u001b[0m \u001b[0mDefaults\u001b[0m \u001b[0mto\u001b[0m\u001b[0;31m \u001b[0m\u001b[0;31m`\u001b[0m\u001b[0;31m`\u001b[0m\u001b[0;32mFalse\u001b[0m\u001b[0;31m`\u001b[0m\u001b[0;31m`\u001b[0m\u001b[0;34m.\u001b[0m\u001b[0;34m\u001b[0m\u001b[0;34m\u001b[0m\u001b[0m\n\u001b[1;32m    194\u001b[0m         \"\"\"\n\u001b[0;32m--> 195\u001b[0;31m         \u001b[0mtorch\u001b[0m\u001b[0;34m.\u001b[0m\u001b[0mautograd\u001b[0m\u001b[0;34m.\u001b[0m\u001b[0mbackward\u001b[0m\u001b[0;34m(\u001b[0m\u001b[0mself\u001b[0m\u001b[0;34m,\u001b[0m \u001b[0mgradient\u001b[0m\u001b[0;34m,\u001b[0m \u001b[0mretain_graph\u001b[0m\u001b[0;34m,\u001b[0m \u001b[0mcreate_graph\u001b[0m\u001b[0;34m)\u001b[0m\u001b[0;34m\u001b[0m\u001b[0;34m\u001b[0m\u001b[0m\n\u001b[0m\u001b[1;32m    196\u001b[0m \u001b[0;34m\u001b[0m\u001b[0m\n\u001b[1;32m    197\u001b[0m     \u001b[0;32mdef\u001b[0m \u001b[0mregister_hook\u001b[0m\u001b[0;34m(\u001b[0m\u001b[0mself\u001b[0m\u001b[0;34m,\u001b[0m \u001b[0mhook\u001b[0m\u001b[0;34m)\u001b[0m\u001b[0;34m:\u001b[0m\u001b[0;34m\u001b[0m\u001b[0;34m\u001b[0m\u001b[0m\n",
      "\u001b[0;32m~/anaconda3/lib/python3.7/site-packages/torch/autograd/__init__.py\u001b[0m in \u001b[0;36mbackward\u001b[0;34m(tensors, grad_tensors, retain_graph, create_graph, grad_variables)\u001b[0m\n\u001b[1;32m     97\u001b[0m     Variable._execution_engine.run_backward(\n\u001b[1;32m     98\u001b[0m         \u001b[0mtensors\u001b[0m\u001b[0;34m,\u001b[0m \u001b[0mgrad_tensors\u001b[0m\u001b[0;34m,\u001b[0m \u001b[0mretain_graph\u001b[0m\u001b[0;34m,\u001b[0m \u001b[0mcreate_graph\u001b[0m\u001b[0;34m,\u001b[0m\u001b[0;34m\u001b[0m\u001b[0;34m\u001b[0m\u001b[0m\n\u001b[0;32m---> 99\u001b[0;31m         allow_unreachable=True)  # allow_unreachable flag\n\u001b[0m\u001b[1;32m    100\u001b[0m \u001b[0;34m\u001b[0m\u001b[0m\n\u001b[1;32m    101\u001b[0m \u001b[0;34m\u001b[0m\u001b[0m\n",
      "\u001b[0;31mKeyboardInterrupt\u001b[0m: "
     ]
    }
   ],
   "source": [
    "from tqdm import tqdm, trange\n",
    "\n",
    "EPISODES = 2000\n",
    "\n",
    "episode_losses = []\n",
    "t = trange(EPISODES, desc=\"Episode\")\n",
    "for current_episode_num in t:\n",
    "    current_episode_loss = 0\n",
    "    \n",
    "    for i, data in enumerate(training_dataloader):\n",
    "        states, actions = data\n",
    "        \n",
    "        optimizer.zero_grad()\n",
    "        \n",
    "        predicted_actions = model(states.float())\n",
    "        loss = loss_fn(predicted_actions, actions)\n",
    "        loss.backward()\n",
    "        optimizer.step()\n",
    "        \n",
    "        current_episode_loss += loss.item()\n",
    "        \n",
    "    t.set_description(f\"Loss {current_episode_loss / len(training_dataloader)}\")\n",
    "    t.refresh()\n",
    "       \n",
    "    episode_losses.append(current_episode_loss / len(training_dataloader))   "
   ]
  },
  {
   "cell_type": "code",
   "execution_count": null,
   "metadata": {},
   "outputs": [],
   "source": [
    "%matplotlib inline\n",
    "\n",
    "import matplotlib.pyplot as plt\n",
    "\n",
    "plt.figure(figsize=(15, 10))\n",
    "plt.plot(episode_losses)\n",
    "plt.show()"
   ]
  },
  {
   "cell_type": "code",
   "execution_count": null,
   "metadata": {},
   "outputs": [],
   "source": [
    "import time\n",
    "\n",
    "from environment import Environment\n",
    "\n",
    "def test(max_steps, speed=0.5, agent_pos=None, food_pos=None, render=True):\n",
    "    model.eval()\n",
    "    \n",
    "    env = Environment(rows=16, cols=16, scope=10)\n",
    "\n",
    "    if agent_pos != None:\n",
    "        env.current_pos = env.pos(agent_pos[0], agent_pos[1])\n",
    "\n",
    "    if food_pos != None:\n",
    "        env.food = env.pos(food_pos[0], food_pos[1])\n",
    "\n",
    "    i = 0\n",
    "    success = True\n",
    "    while (not env.is_done()):\n",
    "        clear_output(wait=True)\n",
    "        print(f\"Step: {i+1}, Food: {env.consumed_count}\")\n",
    "        if i == max_steps or env.num_food == 0:\n",
    "            success = False\n",
    "            break\n",
    "\n",
    "        state = env.get_state()\n",
    "        state = torch.from_numpy(state).unsqueeze(0)\n",
    "        \n",
    "        with torch.no_grad():\n",
    "            action_probs = model(state.float())\n",
    "            print(f\"Action prob: {action_probs}\")\n",
    "            _, action = torch.max(action_probs, 1)\n",
    "            action = action.item()\n",
    "            print(f\"Action: {action}\")\n",
    "\n",
    "        reward = 0\n",
    "        if action == 0:\n",
    "            reward = env.move_up()\n",
    "        elif action == 1:\n",
    "            reward = env.move_left()\n",
    "        elif action == 2:\n",
    "            reward = env.move_down()\n",
    "        elif action == 3:\n",
    "            reward = env.move_right()\n",
    "        elif action == 4:\n",
    "            reward = env.ingest()\n",
    "\n",
    "        if render:\n",
    "            env.render()\n",
    "\n",
    "        i += 1\n",
    "\n",
    "        time.sleep(speed)\n",
    "\n",
    "    return success, env.consumed_count"
   ]
  },
  {
   "cell_type": "code",
   "execution_count": null,
   "metadata": {},
   "outputs": [],
   "source": [
    "# test(max_steps=250, speed=0.1, render=True)"
   ]
  },
  {
   "cell_type": "code",
   "execution_count": null,
   "metadata": {},
   "outputs": [],
   "source": [
    "from collections import Counter\n",
    "\n",
    "actions = []\n",
    "action_num_to_name = {0: \"up\", 1: \"left\", 2: \"down\", 3: \"right\", 4: \"ingest\"}\n",
    "\n",
    "for val in training_dataset:\n",
    "    actions.append(val[1])\n",
    "    \n",
    "action_distribution = dict(Counter(actions))\n",
    "action_distribution = {action:1/count for action, count in action_distribution.items()}\n",
    "print(action_distribution)"
   ]
  },
  {
   "cell_type": "code",
   "execution_count": null,
   "metadata": {},
   "outputs": [],
   "source": []
  }
 ],
 "metadata": {
  "kernelspec": {
   "display_name": "Python 3",
   "language": "python",
   "name": "python3"
  },
  "language_info": {
   "codemirror_mode": {
    "name": "ipython",
    "version": 3
   },
   "file_extension": ".py",
   "mimetype": "text/x-python",
   "name": "python",
   "nbconvert_exporter": "python",
   "pygments_lexer": "ipython3",
   "version": "3.7.4"
  }
 },
 "nbformat": 4,
 "nbformat_minor": 2
}
